{
 "cells": [
  {
   "cell_type": "code",
   "execution_count": 3,
   "metadata": {},
   "outputs": [],
   "source": [
    "board = [1, 2 ,3]\n",
    "ficha = 1"
   ]
  },
  {
   "cell_type": "code",
   "execution_count": 21,
   "metadata": {},
   "outputs": [],
   "source": [
    "movimientos = []\n",
    "board_ficha = [board,ficha]\n",
    "movimientos.append(board_ficha)\n",
    "movimientos.append(board_ficha)\n",
    "movimientos.append(board_ficha)"
   ]
  },
  {
   "cell_type": "code",
   "execution_count": 22,
   "metadata": {},
   "outputs": [
    {
     "output_type": "execute_result",
     "data": {
      "text/plain": [
       "[[[1, 2, 3], 1], [[1, 2, 3], 1], [[1, 2, 3], 1]]"
      ]
     },
     "metadata": {},
     "execution_count": 22
    }
   ],
   "source": [
    "movimientos"
   ]
  },
  {
   "cell_type": "code",
   "execution_count": 24,
   "metadata": {},
   "outputs": [
    {
     "output_type": "stream",
     "name": "stdout",
     "text": [
      "[1, 2, 3]\n[1, 2, 3]\n[1, 2, 3]\n"
     ]
    }
   ],
   "source": [
    "for movimiento in movimientos:\n",
    "    print(movimiento[0])"
   ]
  },
  {
   "cell_type": "code",
   "execution_count": 8,
   "metadata": {},
   "outputs": [],
   "source": [
    "minimos = {}\n",
    "minimos['1'] = 8\n"
   ]
  },
  {
   "cell_type": "code",
   "execution_count": 9,
   "metadata": {},
   "outputs": [
    {
     "output_type": "stream",
     "name": "stdout",
     "text": [
      "corta\n"
     ]
    }
   ],
   "source": [
    "nuevo = 3\n",
    "if minimos['1'] > nuevo:\n",
    "    print('corta')\n",
    "else:\n",
    "    print('llama recursividad')"
   ]
  },
  {
   "cell_type": "code",
   "execution_count": null,
   "metadata": {},
   "outputs": [],
   "source": [
    "nuevo "
   ]
  }
 ],
 "metadata": {
  "kernelspec": {
   "name": "python373jvsc74a57bd014ea72af40ee9339d6f8ad15aef067494a451ba105d6a0c8fbc9d65e956b1bca",
   "display_name": "Python 3.7.3 64-bit ('base': conda)"
  }
 },
 "nbformat": 4,
 "nbformat_minor": 2
}